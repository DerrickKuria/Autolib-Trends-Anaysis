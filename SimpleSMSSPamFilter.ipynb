{
  "nbformat": 4,
  "nbformat_minor": 0,
  "metadata": {
    "colab": {
      "name": "SimpleSMSSPamFilter.ipynb",
      "provenance": [],
      "collapsed_sections": [],
      "authorship_tag": "ABX9TyN/ajLZaHeeQDkXkW71sznu",
      "include_colab_link": true
    },
    "kernelspec": {
      "name": "python3",
      "display_name": "Python 3"
    }
  },
  "cells": [
    {
      "cell_type": "markdown",
      "metadata": {
        "id": "view-in-github",
        "colab_type": "text"
      },
      "source": [
        "<a href=\"https://colab.research.google.com/github/DerrickKuria/Autolib-Trends-Anaysis/blob/master/SimpleSMSSPamFilter.ipynb\" target=\"_parent\"><img src=\"https://colab.research.google.com/assets/colab-badge.svg\" alt=\"Open In Colab\"/></a>"
      ]
    },
    {
      "cell_type": "code",
      "metadata": {
        "colab": {
          "base_uri": "https://localhost:8080/"
        },
        "id": "SQyjJcvo7ySR",
        "outputId": "90071241-9016-4c86-983d-0552e1bb277a"
      },
      "source": [
        "from google.colab import drive\r\n",
        "drive.mount('/content/drive')"
      ],
      "execution_count": null,
      "outputs": [
        {
          "output_type": "stream",
          "text": [
            "Drive already mounted at /content/drive; to attempt to forcibly remount, call drive.mount(\"/content/drive\", force_remount=True).\n"
          ],
          "name": "stdout"
        }
      ]
    },
    {
      "cell_type": "code",
      "metadata": {
        "id": "QKAe7lHa8kB5"
      },
      "source": [
        "data_file =\"/content/drive/MyDrive/spam messages/SMSSpamCollection.txt\""
      ],
      "execution_count": null,
      "outputs": []
    },
    {
      "cell_type": "code",
      "metadata": {
        "colab": {
          "base_uri": "https://localhost:8080/",
          "height": 202
        },
        "id": "sX6i4kFQ9Ny8",
        "outputId": "f6c30531-1a9c-408f-888c-4bbb68ece17e"
      },
      "source": [
        "import pandas as pd\r\n",
        "data =pd.read_csv(data_file,sep =\"\\t\", header =None, names =['label','SMS'])\r\n",
        "data.head()"
      ],
      "execution_count": null,
      "outputs": [
        {
          "output_type": "execute_result",
          "data": {
            "text/html": [
              "<div>\n",
              "<style scoped>\n",
              "    .dataframe tbody tr th:only-of-type {\n",
              "        vertical-align: middle;\n",
              "    }\n",
              "\n",
              "    .dataframe tbody tr th {\n",
              "        vertical-align: top;\n",
              "    }\n",
              "\n",
              "    .dataframe thead th {\n",
              "        text-align: right;\n",
              "    }\n",
              "</style>\n",
              "<table border=\"1\" class=\"dataframe\">\n",
              "  <thead>\n",
              "    <tr style=\"text-align: right;\">\n",
              "      <th></th>\n",
              "      <th>label</th>\n",
              "      <th>SMS</th>\n",
              "    </tr>\n",
              "  </thead>\n",
              "  <tbody>\n",
              "    <tr>\n",
              "      <th>0</th>\n",
              "      <td>ham</td>\n",
              "      <td>Go until jurong point, crazy.. Available only ...</td>\n",
              "    </tr>\n",
              "    <tr>\n",
              "      <th>1</th>\n",
              "      <td>ham</td>\n",
              "      <td>Ok lar... Joking wif u oni...</td>\n",
              "    </tr>\n",
              "    <tr>\n",
              "      <th>2</th>\n",
              "      <td>spam</td>\n",
              "      <td>Free entry in 2 a wkly comp to win FA Cup fina...</td>\n",
              "    </tr>\n",
              "    <tr>\n",
              "      <th>3</th>\n",
              "      <td>ham</td>\n",
              "      <td>U dun say so early hor... U c already then say...</td>\n",
              "    </tr>\n",
              "    <tr>\n",
              "      <th>4</th>\n",
              "      <td>ham</td>\n",
              "      <td>Nah I don't think he goes to usf, he lives aro...</td>\n",
              "    </tr>\n",
              "  </tbody>\n",
              "</table>\n",
              "</div>"
            ],
            "text/plain": [
              "  label                                                SMS\n",
              "0   ham  Go until jurong point, crazy.. Available only ...\n",
              "1   ham                      Ok lar... Joking wif u oni...\n",
              "2  spam  Free entry in 2 a wkly comp to win FA Cup fina...\n",
              "3   ham  U dun say so early hor... U c already then say...\n",
              "4   ham  Nah I don't think he goes to usf, he lives aro..."
            ]
          },
          "metadata": {
            "tags": []
          },
          "execution_count": 22
        }
      ]
    },
    {
      "cell_type": "markdown",
      "metadata": {
        "id": "teOpdncU_b1O"
      },
      "source": [
        "Removing stopwords and remove all punctuations"
      ]
    },
    {
      "cell_type": "code",
      "metadata": {
        "colab": {
          "base_uri": "https://localhost:8080/"
        },
        "id": "HgTeRej0_gq_",
        "outputId": "35c5f419-ce37-4d80-e104-41ba861cb9b9"
      },
      "source": [
        "import string\r\n",
        "import nltk\r\n",
        "nltk.download('stopwords')\r\n",
        "nltk.download('punkt')"
      ],
      "execution_count": null,
      "outputs": [
        {
          "output_type": "stream",
          "text": [
            "[nltk_data] Downloading package stopwords to /root/nltk_data...\n",
            "[nltk_data]   Package stopwords is already up-to-date!\n",
            "[nltk_data] Downloading package punkt to /root/nltk_data...\n",
            "[nltk_data]   Package punkt is already up-to-date!\n"
          ],
          "name": "stdout"
        },
        {
          "output_type": "execute_result",
          "data": {
            "text/plain": [
              "True"
            ]
          },
          "metadata": {
            "tags": []
          },
          "execution_count": 23
        }
      ]
    },
    {
      "cell_type": "code",
      "metadata": {
        "id": "I9zV2Po-APzF"
      },
      "source": [
        "stopwords =nltk.corpus.stopwords.words('english')\r\n",
        "punctuation =string.punctuation"
      ],
      "execution_count": null,
      "outputs": []
    },
    {
      "cell_type": "code",
      "metadata": {
        "colab": {
          "base_uri": "https://localhost:8080/"
        },
        "id": "EK0xPQ0LChA7",
        "outputId": "8b0359b2-3088-439e-b44b-274b55aa22b8"
      },
      "source": [
        "print(stopwords[:5])"
      ],
      "execution_count": null,
      "outputs": [
        {
          "output_type": "stream",
          "text": [
            "['i', 'me', 'my', 'myself', 'we']\n"
          ],
          "name": "stdout"
        }
      ]
    },
    {
      "cell_type": "code",
      "metadata": {
        "colab": {
          "base_uri": "https://localhost:8080/"
        },
        "id": "V5Nis0UECmE7",
        "outputId": "d4e23127-9919-440e-89bb-b25c14100ef5"
      },
      "source": [
        "print(punctuation)"
      ],
      "execution_count": null,
      "outputs": [
        {
          "output_type": "stream",
          "text": [
            "!\"#$%&'()*+,-./:;<=>?@[\\]^_`{|}~\n"
          ],
          "name": "stdout"
        }
      ]
    },
    {
      "cell_type": "code",
      "metadata": {
        "id": "wAID3QndJyXm"
      },
      "source": [
        "\r\n",
        "#def preprocess(sms):\r\n",
        "#  lowercase =\"\".join([char.lower() for char in sms])\r\n",
        "#  return lowercase\r\n"
      ],
      "execution_count": null,
      "outputs": []
    },
    {
      "cell_type": "code",
      "metadata": {
        "id": "Kd81KxKNC0BD"
      },
      "source": [
        "\r\n",
        "#def preprocess(sms):\r\n",
        "#  remove_punct = \"\".join([char for char in sms if char not in punctuation])\r\n",
        "# return remove_punct'\r\n",
        "  "
      ],
      "execution_count": null,
      "outputs": []
    },
    {
      "cell_type": "markdown",
      "metadata": {
        "id": "dTksYeydQmVE"
      },
      "source": [
        "For an easier and efficient code , we will combine the two."
      ]
    },
    {
      "cell_type": "code",
      "metadata": {
        "id": "FytfMf2DQv1n"
      },
      "source": [
        "def preprocess(sms):\r\n",
        "  lowercase =\"\".join([char.lower() for char in sms if char not in punctuation])\r\n",
        "  tokenize = nltk.tokenize.word_tokenize(lowercase)\r\n",
        "  remove_stopwords =[word for word in tokenize if word not in stopwords]\r\n",
        "  return remove_stopwords\r\n"
      ],
      "execution_count": null,
      "outputs": []
    },
    {
      "cell_type": "code",
      "metadata": {
        "id": "MKgfsljjDV87"
      },
      "source": [
        "data['processed'] = data['SMS'].apply(lambda x: preprocess(x))"
      ],
      "execution_count": null,
      "outputs": []
    },
    {
      "cell_type": "code",
      "metadata": {
        "colab": {
          "base_uri": "https://localhost:8080/",
          "height": 202
        },
        "id": "plJwMlaUG3w2",
        "outputId": "26cc0133-74c7-4fc0-fcd5-22ff34d16881"
      },
      "source": [
        "data.head()"
      ],
      "execution_count": null,
      "outputs": [
        {
          "output_type": "execute_result",
          "data": {
            "text/html": [
              "<div>\n",
              "<style scoped>\n",
              "    .dataframe tbody tr th:only-of-type {\n",
              "        vertical-align: middle;\n",
              "    }\n",
              "\n",
              "    .dataframe tbody tr th {\n",
              "        vertical-align: top;\n",
              "    }\n",
              "\n",
              "    .dataframe thead th {\n",
              "        text-align: right;\n",
              "    }\n",
              "</style>\n",
              "<table border=\"1\" class=\"dataframe\">\n",
              "  <thead>\n",
              "    <tr style=\"text-align: right;\">\n",
              "      <th></th>\n",
              "      <th>label</th>\n",
              "      <th>SMS</th>\n",
              "      <th>processed</th>\n",
              "    </tr>\n",
              "  </thead>\n",
              "  <tbody>\n",
              "    <tr>\n",
              "      <th>0</th>\n",
              "      <td>ham</td>\n",
              "      <td>Go until jurong point, crazy.. Available only ...</td>\n",
              "      <td>[go, jurong, point, crazy, available, bugis, n...</td>\n",
              "    </tr>\n",
              "    <tr>\n",
              "      <th>1</th>\n",
              "      <td>ham</td>\n",
              "      <td>Ok lar... Joking wif u oni...</td>\n",
              "      <td>[ok, lar, joking, wif, u, oni]</td>\n",
              "    </tr>\n",
              "    <tr>\n",
              "      <th>2</th>\n",
              "      <td>spam</td>\n",
              "      <td>Free entry in 2 a wkly comp to win FA Cup fina...</td>\n",
              "      <td>[free, entry, 2, wkly, comp, win, fa, cup, fin...</td>\n",
              "    </tr>\n",
              "    <tr>\n",
              "      <th>3</th>\n",
              "      <td>ham</td>\n",
              "      <td>U dun say so early hor... U c already then say...</td>\n",
              "      <td>[u, dun, say, early, hor, u, c, already, say]</td>\n",
              "    </tr>\n",
              "    <tr>\n",
              "      <th>4</th>\n",
              "      <td>ham</td>\n",
              "      <td>Nah I don't think he goes to usf, he lives aro...</td>\n",
              "      <td>[nah, dont, think, goes, usf, lives, around, t...</td>\n",
              "    </tr>\n",
              "  </tbody>\n",
              "</table>\n",
              "</div>"
            ],
            "text/plain": [
              "  label  ...                                          processed\n",
              "0   ham  ...  [go, jurong, point, crazy, available, bugis, n...\n",
              "1   ham  ...                     [ok, lar, joking, wif, u, oni]\n",
              "2  spam  ...  [free, entry, 2, wkly, comp, win, fa, cup, fin...\n",
              "3   ham  ...      [u, dun, say, early, hor, u, c, already, say]\n",
              "4   ham  ...  [nah, dont, think, goes, usf, lives, around, t...\n",
              "\n",
              "[5 rows x 3 columns]"
            ]
          },
          "metadata": {
            "tags": []
          },
          "execution_count": 31
        }
      ]
    },
    {
      "cell_type": "markdown",
      "metadata": {
        "id": "PNT8aABQXdrU"
      },
      "source": [
        "Categorizing and counting tokens"
      ]
    },
    {
      "cell_type": "code",
      "metadata": {
        "id": "haibh9KXRMaB"
      },
      "source": [
        "def Categorize_words():\r\n",
        "  spam_words = []\r\n",
        "  ham_words = []\r\n",
        "\r\n",
        "#Spam associated words\r\n",
        "#Looping through the spam messages.\r\n",
        "  for sms in data['processed'][data['label'] == 'spam']:\r\n",
        "    for word in sms:\r\n",
        "      spam_words.append(word)\r\n",
        "\r\n",
        "#Spam associated words\r\n",
        "#Looping through the spam messages.\r\n",
        "  for sms in data['processed'][data['label'] == 'ham']:\r\n",
        "    for word in sms:\r\n",
        "      ham_words.append(word)\r\n",
        "\r\n",
        "  return spam_words,ham_words\r\n",
        "spam_words,ham_words = Categorize_words()\r\n"
      ],
      "execution_count": null,
      "outputs": []
    },
    {
      "cell_type": "code",
      "metadata": {
        "colab": {
          "base_uri": "https://localhost:8080/"
        },
        "id": "xKA0mF14cAQ6",
        "outputId": "75c4d602-002b-4732-946d-37e5a067121f"
      },
      "source": [
        "#Pront the first two words in both\r\n",
        "print(spam_words[:5])\r\n",
        "print(ham_words[:5])"
      ],
      "execution_count": null,
      "outputs": [
        {
          "output_type": "stream",
          "text": [
            "['free', 'entry', '2', 'wkly', 'comp']\n",
            "['go', 'jurong', 'point', 'crazy', 'available']\n"
          ],
          "name": "stdout"
        }
      ]
    },
    {
      "cell_type": "code",
      "metadata": {
        "id": "wuHcprq8cpD8"
      },
      "source": [
        "#iterate through  the words from the user input and count occurences from both spam_words and ham_words\r\n",
        "def predict(user_input):\r\n",
        "  spam_counter = 0\r\n",
        "  ham_counter = 0\r\n",
        "  for word in user_input:\r\n",
        "    spam_counter += spam_words.count(word)\r\n",
        "    ham_counter += ham_words.count(word)\r\n"
      ],
      "execution_count": null,
      "outputs": []
    },
    {
      "cell_type": "code",
      "metadata": {
        "id": "cZoAg9HafyaP"
      },
      "source": [
        "  if ham_counter > spam_counter:\r\n",
        "    print('Message is not ham with {}% accuracy'.format(accuracy1))\r\n",
        "    #Adding accuracy\r\n",
        "    accuracy1 = round((ham_counter/(spam_counter +ham_counter)) *100,2)\r\n",
        "  elif spam_counter>ham_counter:\r\n",
        "    print('Message is spam with {}% accuracy'.format(accuracy))\r\n",
        "    #Adding accuracy\r\n",
        "    accuracy = round((spam_counter/(spam_counter +ham_counter)) *100,2)\r\n",
        "  else:\r\n",
        "   print('Message could be spam about 50%')\r\n",
        "\r\n",
        "\r\n",
        "user_input = input('Please type in data to know if our function works properly\\n')\r\n"
      ],
      "execution_count": null,
      "outputs": []
    },
    {
      "cell_type": "code",
      "metadata": {
        "id": "TjcpE4lFhRoN"
      },
      "source": [
        "processed_input = preprocess(user_input)\r\n",
        "predict(processed_input)\r\n"
      ],
      "execution_count": null,
      "outputs": []
    }
  ]
}